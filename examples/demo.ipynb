{
  "cells": [
    {
      "cell_type": "markdown",
      "metadata": {
        "id": "view-in-github",
        "colab_type": "text"
      },
      "source": [
        "<a href=\"https://colab.research.google.com/github/collisioncataclysm/ACMS/blob/main/examples/demo.ipynb\" target=\"_parent\"><img src=\"https://colab.research.google.com/assets/colab-badge.svg\" alt=\"Open In Colab\"/></a>"
      ]
    },
    {
      "cell_type": "markdown",
      "metadata": {
        "id": "_OdVYcKpS-Yn"
      },
      "source": [
        "# Samila Demo"
      ]
    },
    {
      "cell_type": "code",
      "execution_count": null,
      "metadata": {
        "id": "Ot65j5CWS-Yr"
      },
      "outputs": [],
      "source": [
        "import sys\n",
        "try:\n",
        "  import google.colab\n",
        "  !{sys.executable} -m pip -q -q install samila\n",
        "except:\n",
        "  pass"
      ]
    },
    {
      "cell_type": "code",
      "execution_count": null,
      "metadata": {
        "id": "8ZdG0lEpS-Yt"
      },
      "outputs": [],
      "source": [
        "import matplotlib.pyplot as plt\n",
        "import random\n",
        "import math\n",
        "from samila import GenerativeImage, Projection"
      ]
    },
    {
      "cell_type": "markdown",
      "metadata": {
        "id": "8wmi2PRaS-Yt"
      },
      "source": [
        "## Basic Generation\n",
        "If we call `generate` with no input parameters, we get a plot from two random equations"
      ]
    },
    {
      "cell_type": "code",
      "execution_count": null,
      "metadata": {
        "id": "TA21LmB7S-Yu"
      },
      "outputs": [],
      "source": [
        "g1 = GenerativeImage()\n",
        "g1.generate()\n",
        "g1.plot()\n",
        "plt.show()"
      ]
    },
    {
      "cell_type": "markdown",
      "metadata": {
        "id": "Pg9jdP6lS-Yv"
      },
      "source": [
        "## Assigning Functions\n",
        "By defining `f1` and `f2`, we can control the general shape of the plot"
      ]
    },
    {
      "cell_type": "code",
      "execution_count": null,
      "metadata": {
        "id": "Bfs96oMcS-Yw"
      },
      "outputs": [],
      "source": [
        "def f1(x, y):\n",
        "    result = random.uniform(-1,1) * x**2  - math.sin(y**2) + abs(y-x)\n",
        "    return result\n",
        "\n",
        "def f2(x, y):\n",
        "    result = random.uniform(-1,1) * y**3 - math.cos(x**2) + 2*x\n",
        "    return result\n",
        "\n",
        "g2 = GenerativeImage(f1, f2)\n",
        "g2.generate()\n",
        "g2.plot()\n",
        "plt.show()"
      ]
    },
    {
      "cell_type": "markdown",
      "metadata": {
        "id": "4rl6iXzXS-Y5"
      },
      "source": [
        "## Projection\n",
        "We can use the `projection` attribute to define the coordinate system to transform our functions\n",
        "\n",
        "The avaliable projections are `RECTILINEAR`, `POLAR`, `AITOFF`, `HAMMER`, `LAMBERT`, `MOLLWEIDE` and `RANDOM`"
      ]
    },
    {
      "cell_type": "code",
      "execution_count": null,
      "metadata": {
        "id": "kJpcXgXqS-Y7"
      },
      "outputs": [],
      "source": [
        "g2 = GenerativeImage(f1, f2)\n",
        "g2.generate()\n",
        "\n",
        "for p in list(Projection):\n",
        "    print(p)\n",
        "    g2.plot(projection=p)\n",
        "    plt.show()\n",
        "    plt.close()"
      ]
    },
    {
      "cell_type": "markdown",
      "metadata": {
        "id": "3sVbTSeTS-ZA"
      },
      "source": [
        "## Range\n",
        "\n",
        "Control the range over which the input values span"
      ]
    },
    {
      "cell_type": "code",
      "execution_count": null,
      "metadata": {
        "id": "8uvuaH-ZS-ZB"
      },
      "outputs": [],
      "source": [
        "g2 = GenerativeImage(f1, f2)\n",
        "g2.generate(start=-1.5*math.pi, step=0.007, stop=0)\n",
        "g2.plot(projection=Projection.POLAR)\n",
        "plt.show()"
      ]
    },
    {
      "cell_type": "markdown",
      "metadata": {
        "id": "zTZGdl4nS-ZB"
      },
      "source": [
        "## Color\n",
        "\n",
        "We can assign colors for both the background as well as the line\n",
        "\n",
        "Supported colors are available in `VALID_COLORS` list\n"
      ]
    },
    {
      "cell_type": "code",
      "execution_count": null,
      "metadata": {
        "id": "0JuwECTHS-ZC"
      },
      "outputs": [],
      "source": [
        "g2 = GenerativeImage(f1, f2)\n",
        "g2.generate()\n",
        "g2.plot(color=\"maroon\", bgcolor=\"antiquewhite\", projection=Projection.POLAR)\n",
        "plt.show()"
      ]
    },
    {
      "cell_type": "markdown",
      "metadata": {
        "id": "3pjESCBtS-ZC"
      },
      "source": [
        "* `color` and `bgcolor` parameters supported formats:\n",
        "\n",
        "    1. Color name (example: `color=\"yellow\"`)\n",
        "    2. RGB/RGBA (example: `color=(0.1,0.1,0.1)`, `color=(0.1,0.1,0.1,0.1)`)\n",
        "    3. Hex (example: `color=\"#eeefff\"`)\n",
        "    4. Random (example: `color=\"random\"`)\n",
        "    5. Complement (example: `color=\"complement\", bgcolor=\"blue\"`)\n",
        "    6. Transparent (example: `bgcolor=\"transparent\"`)\n",
        "\n",
        "⚠️ **Transparent** mode is only available for background"
      ]
    },
    {
      "cell_type": "markdown",
      "metadata": {
        "id": "8rmH5MLdS-ZC"
      },
      "source": [
        "## Spot Size\n",
        "\n",
        "We can also change the size of the plot marker"
      ]
    },
    {
      "cell_type": "code",
      "execution_count": null,
      "metadata": {
        "id": "eSKx2RsGS-ZD"
      },
      "outputs": [],
      "source": [
        "g2 = GenerativeImage(f1, f2)\n",
        "g2.generate()\n",
        "g2.plot(color=\"yellow\", bgcolor=\"darkslategray\", spot_size=0.25)\n",
        "plt.show()"
      ]
    },
    {
      "cell_type": "markdown",
      "metadata": {
        "id": "ZS_bS6_-S-ZD"
      },
      "source": [
        "## Random Seeds\n",
        "If we do not pass in a seed when calling `generate`, a random seed will be created for us\n",
        "\n",
        "Passing this seed into `generate` will guarantee plot reproducibility"
      ]
    },
    {
      "cell_type": "code",
      "execution_count": null,
      "metadata": {
        "id": "8DUn-Ma6S-ZD"
      },
      "outputs": [],
      "source": [
        "seed = g2.seed\n",
        "print(seed)"
      ]
    },
    {
      "cell_type": "code",
      "execution_count": null,
      "metadata": {
        "id": "0x7SotsiS-ZD"
      },
      "outputs": [],
      "source": [
        "g2 = GenerativeImage(f1, f2)\n",
        "g2.generate(seed)\n",
        "g2.plot(color=\"yellow\", bgcolor=\"darkslategray\", spot_size=0.05)\n",
        "plt.show()"
      ]
    },
    {
      "cell_type": "markdown",
      "metadata": {
        "id": "b4OncOhFS-ZE"
      },
      "source": [
        "## Saving Images\n",
        "\n",
        "Save generated images\n",
        "\n",
        "Use the `depth` attribute to increase the resolution"
      ]
    },
    {
      "cell_type": "code",
      "execution_count": null,
      "metadata": {
        "id": "yNqYqdqJS-ZE"
      },
      "outputs": [],
      "source": [
        "g2.save_image(file_adr=\"test.png\")"
      ]
    },
    {
      "cell_type": "code",
      "execution_count": null,
      "metadata": {
        "id": "1Fay04SkS-ZE"
      },
      "outputs": [],
      "source": [
        "g2.save_image(file_adr=\"test_high_res.png\", depth=3)"
      ]
    },
    {
      "cell_type": "markdown",
      "metadata": {
        "id": "__d3v07qS-ZE"
      },
      "source": [
        "## Saving Data\n",
        "\n",
        "Save generated image data\n",
        "\n",
        "It can then be loaded into a `GenerativeImage` instance"
      ]
    },
    {
      "cell_type": "code",
      "execution_count": null,
      "metadata": {
        "id": "JWSBWegOS-ZF"
      },
      "outputs": [],
      "source": [
        "g2.save_data(file_adr=\"data.json\")"
      ]
    },
    {
      "cell_type": "code",
      "execution_count": null,
      "metadata": {
        "id": "ZF9qwM7bS-ZF"
      },
      "outputs": [],
      "source": [
        "g2 = GenerativeImage(data=open('data.json', 'r'))\n",
        "g2.plot()"
      ]
    },
    {
      "cell_type": "markdown",
      "metadata": {
        "id": "0Fi0W52eS-ZF"
      },
      "source": [
        "## Saving Config\n",
        "\n",
        "Save generated image config. It contains string formats of functions which is also human readable\n",
        "\n",
        "It can then be loaded into a `GenerativeImage` instance"
      ]
    },
    {
      "cell_type": "code",
      "execution_count": null,
      "metadata": {
        "id": "NDtV-VgDS-ZF"
      },
      "outputs": [],
      "source": [
        "g1.save_config(file_adr=\"config.json\")"
      ]
    },
    {
      "cell_type": "code",
      "execution_count": null,
      "metadata": {
        "id": "6R9GT4peS-ZF"
      },
      "outputs": [],
      "source": [
        "g1 = GenerativeImage(config=open('config.json', 'r'))\n",
        "g1.generate()\n",
        "g1.plot()"
      ]
    },
    {
      "cell_type": "markdown",
      "metadata": {
        "id": "V1i1GlhLS-ZF"
      },
      "source": [
        "## NFT.storage"
      ]
    },
    {
      "cell_type": "markdown",
      "metadata": {
        "id": "4IKd4XD_S-ZG"
      },
      "source": [
        "Upload generated image directly to [NFT.storage](https://nft.storage)"
      ]
    },
    {
      "cell_type": "code",
      "execution_count": null,
      "metadata": {
        "id": "n5oyplsgS-ZG"
      },
      "outputs": [],
      "source": [
        "g1.nft_storage(api_key=\"YOUR_API_KEY\")"
      ]
    }
  ],
  "metadata": {
    "kernelspec": {
      "display_name": "Python 3",
      "language": "python",
      "name": "python3"
    },
    "language_info": {
      "codemirror_mode": {
        "name": "ipython",
        "version": 3
      },
      "file_extension": ".py",
      "mimetype": "text/x-python",
      "name": "python",
      "nbconvert_exporter": "python",
      "pygments_lexer": "ipython3",
      "version": "3.5.2"
    },
    "colab": {
      "name": "demo.ipynb",
      "provenance": [],
      "include_colab_link": true
    }
  },
  "nbformat": 4,
  "nbformat_minor": 0
}